{
 "cells": [
  {
   "cell_type": "code",
   "execution_count": 1,
   "metadata": {
    "_cell_guid": "b1076dfc-b9ad-4769-8c92-a6c4dae69d19",
    "_uuid": "8f2839f25d086af736a60e9eeb907d3b93b6e0e5",
    "execution": {
     "iopub.execute_input": "2021-10-01T01:45:24.089796Z",
     "iopub.status.busy": "2021-10-01T01:45:24.088536Z",
     "iopub.status.idle": "2021-10-01T01:45:31.595640Z",
     "shell.execute_reply": "2021-10-01T01:45:31.594522Z",
     "shell.execute_reply.started": "2021-10-01T01:45:24.089661Z"
    }
   },
   "outputs": [],
   "source": [
    "import numpy as np\n",
    "import pandas as pd\n",
    "\n",
    "import tensorflow as tf\n",
    "from tensorflow import keras\n",
    "from tensorflow.keras.callbacks import EarlyStopping\n",
    "from tensorflow.keras.callbacks import LearningRateScheduler\n",
    "from tensorflow.keras.optimizers.schedules import ExponentialDecay\n",
    "\n",
    "from sklearn.metrics import mean_absolute_error as mae\n",
    "from sklearn.preprocessing import RobustScaler, normalize\n",
    "from sklearn.model_selection import train_test_split, GroupKFold, KFold"
   ]
  },
  {
   "cell_type": "code",
   "execution_count": 22,
   "metadata": {
    "execution": {
     "iopub.execute_input": "2021-10-01T02:42:40.341831Z",
     "iopub.status.busy": "2021-10-01T02:42:40.341435Z",
     "iopub.status.idle": "2021-10-01T02:42:40.357154Z",
     "shell.execute_reply": "2021-10-01T02:42:40.356234Z",
     "shell.execute_reply.started": "2021-10-01T02:42:40.341790Z"
    }
   },
   "outputs": [],
   "source": [
    "import os\n",
    "for dirname, _, filenames in os.walk('/kaggle/input'):\n",
    "    for filename in filenames:\n",
    "        print(os.path.join(dirname, filename))"
   ]
  },
  {
   "cell_type": "code",
   "execution_count": 9,
   "metadata": {
    "execution": {
     "iopub.execute_input": "2021-10-01T01:48:57.675208Z",
     "iopub.status.busy": "2021-10-01T01:48:57.674334Z",
     "iopub.status.idle": "2021-10-01T01:49:13.946277Z",
     "shell.execute_reply": "2021-10-01T01:49:13.945321Z",
     "shell.execute_reply.started": "2021-10-01T01:48:57.675163Z"
    }
   },
   "outputs": [],
   "source": [
    "train_raw = pd.read_csv(\"/kaggle/input/ventilator-pressure-prediction/train.csv\")\n",
    "test_raw = pd.read_csv(\"/kaggle/input/ventilator-pressure-prediction/test.csv\")"
   ]
  },
  {
   "cell_type": "code",
   "execution_count": 11,
   "metadata": {
    "execution": {
     "iopub.execute_input": "2021-10-01T01:49:32.014764Z",
     "iopub.status.busy": "2021-10-01T01:49:32.014341Z",
     "iopub.status.idle": "2021-10-01T01:49:32.042153Z",
     "shell.execute_reply": "2021-10-01T01:49:32.041170Z",
     "shell.execute_reply.started": "2021-10-01T01:49:32.014729Z"
    }
   },
   "outputs": [],
   "source": [
    "train_raw.head()"
   ]
  },
  {
   "cell_type": "code",
   "execution_count": 12,
   "metadata": {
    "execution": {
     "iopub.execute_input": "2021-10-01T01:49:40.988572Z",
     "iopub.status.busy": "2021-10-01T01:49:40.988186Z",
     "iopub.status.idle": "2021-10-01T01:49:41.014904Z",
     "shell.execute_reply": "2021-10-01T01:49:41.013938Z",
     "shell.execute_reply.started": "2021-10-01T01:49:40.988532Z"
    }
   },
   "outputs": [],
   "source": [
    "train_raw.info()"
   ]
  },
  {
   "cell_type": "code",
   "execution_count": 13,
   "metadata": {
    "execution": {
     "iopub.execute_input": "2021-10-01T01:50:09.347640Z",
     "iopub.status.busy": "2021-10-01T01:50:09.347269Z",
     "iopub.status.idle": "2021-10-01T01:50:43.054717Z",
     "shell.execute_reply": "2021-10-01T01:50:43.053875Z",
     "shell.execute_reply.started": "2021-10-01T01:50:09.347602Z"
    }
   },
   "outputs": [],
   "source": [
    "def add_features(df):\n",
    "    df['area'] = df['time_step'] * df['u_in']\n",
    "    df['area'] = df.groupby('breath_id')['area'].cumsum()\n",
    "    \n",
    "    df['u_in_cumsum'] = (df['u_in']).groupby(df['breath_id']).cumsum()\n",
    "    \n",
    "    df['u_in_lag'] = df['u_in'].shift(2).fillna(0)\n",
    "    \n",
    "    df['R'] = df['R'].astype(str)\n",
    "    df['C'] = df['C'].astype(str)\n",
    "    df = pd.get_dummies(df)\n",
    "\n",
    "    return df\n",
    "\n",
    "train = add_features(train_raw)\n",
    "test = add_features(test_raw)"
   ]
  },
  {
   "cell_type": "code",
   "execution_count": 14,
   "metadata": {
    "execution": {
     "iopub.execute_input": "2021-10-01T01:51:07.441683Z",
     "iopub.status.busy": "2021-10-01T01:51:07.440537Z",
     "iopub.status.idle": "2021-10-01T01:51:08.812572Z",
     "shell.execute_reply": "2021-10-01T01:51:08.811603Z",
     "shell.execute_reply.started": "2021-10-01T01:51:07.441626Z"
    }
   },
   "outputs": [],
   "source": [
    "targets = train[['pressure']].to_numpy().reshape(-1, 80)\n",
    "train.drop(['pressure', 'id', 'breath_id'], axis=1, inplace=True)\n",
    "test = test.drop(['id', 'breath_id'], axis=1)"
   ]
  },
  {
   "cell_type": "code",
   "execution_count": 15,
   "metadata": {
    "execution": {
     "iopub.execute_input": "2021-10-01T01:51:37.430276Z",
     "iopub.status.busy": "2021-10-01T01:51:37.429240Z",
     "iopub.status.idle": "2021-10-01T01:51:40.719134Z",
     "shell.execute_reply": "2021-10-01T01:51:40.717974Z",
     "shell.execute_reply.started": "2021-10-01T01:51:37.430226Z"
    }
   },
   "outputs": [],
   "source": [
    "RS = RobustScaler()\n",
    "train = RS.fit_transform(train)\n",
    "test = RS.transform(test)"
   ]
  },
  {
   "cell_type": "code",
   "execution_count": 16,
   "metadata": {
    "execution": {
     "iopub.execute_input": "2021-10-01T01:51:42.453592Z",
     "iopub.status.busy": "2021-10-01T01:51:42.453214Z",
     "iopub.status.idle": "2021-10-01T01:51:42.458593Z",
     "shell.execute_reply": "2021-10-01T01:51:42.457747Z",
     "shell.execute_reply.started": "2021-10-01T01:51:42.453553Z"
    }
   },
   "outputs": [],
   "source": [
    "train = train.reshape(-1, 80, train.shape[-1])\n",
    "test = test.reshape(-1, 80, train.shape[-1])"
   ]
  },
  {
   "cell_type": "code",
   "execution_count": 18,
   "metadata": {
    "execution": {
     "iopub.execute_input": "2021-10-01T01:54:00.931165Z",
     "iopub.status.busy": "2021-10-01T01:54:00.930748Z",
     "iopub.status.idle": "2021-10-01T02:38:59.042993Z",
     "shell.execute_reply": "2021-10-01T02:38:59.041724Z",
     "shell.execute_reply.started": "2021-10-01T01:54:00.931113Z"
    }
   },
   "outputs": [],
   "source": [
    "EPOCH = 100\n",
    "BATCH_SIZE = 1024\n",
    "\n",
    "# detect and init the TPU\n",
    "tpu = tf.distribute.cluster_resolver.TPUClusterResolver.connect()\n",
    "\n",
    "# instantiate a distribution strategy\n",
    "tpu_strategy = tf.distribute.experimental.TPUStrategy(tpu)\n",
    "\n",
    "with tpu_strategy.scope():\n",
    "    kf = KFold(n_splits=5, shuffle=True, random_state=2021)\n",
    "    test_preds = []\n",
    "    for fold, (train_idx, test_idx) in enumerate(kf.split(train, targets)):\n",
    "        print('-'*15, '>', f'Fold {fold+1}', '<', '-'*15)\n",
    "        X_train, X_valid = train[train_idx], train[test_idx]\n",
    "        y_train, y_valid = targets[train_idx], targets[test_idx]\n",
    "        model = keras.models.Sequential([\n",
    "            keras.layers.Input(shape=train.shape[-2:]),\n",
    "            keras.layers.Bidirectional(keras.layers.LSTM(450, return_sequences=True)),\n",
    "            keras.layers.Bidirectional(keras.layers.LSTM(300, return_sequences=True)),\n",
    "            keras.layers.Bidirectional(keras.layers.LSTM(150, return_sequences=True)),\n",
    "            keras.layers.Bidirectional(keras.layers.LSTM(100, return_sequences=True)),\n",
    "            keras.layers.Dense(50, activation='selu'),\n",
    "            keras.layers.Dense(1),\n",
    "        ])\n",
    "        model.compile(optimizer=\"adam\", loss=\"mae\")\n",
    "\n",
    "        scheduler = ExponentialDecay(1e-3, 400*((len(train)*0.8)/BATCH_SIZE), 1e-5)\n",
    "        lr = LearningRateScheduler(scheduler, verbose=1)\n",
    "\n",
    "\n",
    "        model.fit(X_train, y_train, validation_data=(X_valid, y_valid), epochs=EPOCH, batch_size=BATCH_SIZE, callbacks=[lr])\n",
    "        test_preds.append(model.predict(test).squeeze().reshape(-1, 1).squeeze())"
   ]
  },
  {
   "cell_type": "code",
   "execution_count": 20,
   "metadata": {
    "execution": {
     "iopub.execute_input": "2021-10-01T02:41:55.368870Z",
     "iopub.status.busy": "2021-10-01T02:41:55.368508Z",
     "iopub.status.idle": "2021-10-01T02:41:55.380334Z",
     "shell.execute_reply": "2021-10-01T02:41:55.379257Z",
     "shell.execute_reply.started": "2021-10-01T02:41:55.368832Z"
    }
   },
   "outputs": [],
   "source": [
    "test_preds"
   ]
  },
  {
   "cell_type": "code",
   "execution_count": 21,
   "metadata": {
    "execution": {
     "iopub.execute_input": "2021-10-01T02:42:05.688013Z",
     "iopub.status.busy": "2021-10-01T02:42:05.687291Z",
     "iopub.status.idle": "2021-10-01T02:42:19.143865Z",
     "shell.execute_reply": "2021-10-01T02:42:19.142247Z",
     "shell.execute_reply.started": "2021-10-01T02:42:05.687968Z"
    }
   },
   "outputs": [],
   "source": [
    "submission = pd.read_csv(\"/kaggle/input/ventilator-pressure-prediction/sample_submission.csv\")\n",
    "submission[\"pressure\"] = sum(test_preds)/5\n",
    "submission.to_csv('submission.csv', index=False)"
   ]
  },
  {
   "cell_type": "markdown",
   "metadata": {},
   "source": [
    "#References\n",
    "thanks to https://www.kaggle.com/tolgadincer Tolga Dincer "
   ]
  }
 ],
 "metadata": {
  "kernelspec": {
   "display_name": "Python 3",
   "language": "python",
   "name": "python3"
  },
  "language_info": {
   "codemirror_mode": {
    "name": "ipython",
    "version": 3
   },
   "file_extension": ".py",
   "mimetype": "text/x-python",
   "name": "python",
   "nbconvert_exporter": "python",
   "pygments_lexer": "ipython3",
   "version": "3.8.5"
  }
 },
 "nbformat": 4,
 "nbformat_minor": 4
}
